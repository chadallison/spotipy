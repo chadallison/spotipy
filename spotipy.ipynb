{
 "cells": [
  {
   "cell_type": "markdown",
   "metadata": {},
   "source": [
    "### Importing Libraries"
   ]
  },
  {
   "cell_type": "code",
   "execution_count": 139,
   "metadata": {},
   "outputs": [],
   "source": [
    "import numpy as np\n",
    "import pandas as pd"
   ]
  },
  {
   "cell_type": "markdown",
   "metadata": {},
   "source": [
    "### Data Import"
   ]
  },
  {
   "cell_type": "code",
   "execution_count": 140,
   "metadata": {},
   "outputs": [
    {
     "name": "stdout",
     "output_type": "stream",
     "text": [
      "Data import successful: 21254 rows, 4 columns\n"
     ]
    }
   ],
   "source": [
    "df0 = pd.read_json(\"data/MyData - 24 Oct 2023/StreamingHistory0.json\")\n",
    "df1 = pd.read_json(\"data/MyData - 24 Oct 2023/StreamingHistory1.json\")\n",
    "df2 = pd.read_json(\"data/MyData - 24 Oct 2023/StreamingHistory2.json\")\n",
    "\n",
    "df = pd.concat([df0, df1, df2], ignore_index = True)\n",
    "del df0, df1, df2\n",
    "\n",
    "print(f\"Data import successful: {len(df)} rows, {len(df.columns)} columns\")"
   ]
  },
  {
   "cell_type": "markdown",
   "metadata": {},
   "source": [
    "### Data Timeframe"
   ]
  },
  {
   "cell_type": "code",
   "execution_count": 141,
   "metadata": {},
   "outputs": [
    {
     "name": "stdout",
     "output_type": "stream",
     "text": [
      "Oldest date: 01 October 2022\n",
      "Most recent date: 22 October 2023\n"
     ]
    }
   ],
   "source": [
    "from datetime import datetime\n",
    "\n",
    "def better_date(date):\n",
    "    date_obj = datetime.strptime(date, \"%Y-%m-%d\")\n",
    "    return date_obj.strftime(\"%d %B %Y\")\n",
    "\n",
    "print(f\"Oldest date: {better_date(min(df[\"endTime\"].tolist())[0:10])}\\nMost recent date: {better_date(max(df[\"endTime\"].tolist())[0:10])}\")"
   ]
  },
  {
   "cell_type": "markdown",
   "metadata": {},
   "source": [
    "### Top 10 Tracks"
   ]
  },
  {
   "cell_type": "code",
   "execution_count": 142,
   "metadata": {},
   "outputs": [
    {
     "data": {
      "text/html": [
       "<div>\n",
       "<style scoped>\n",
       "    .dataframe tbody tr th:only-of-type {\n",
       "        vertical-align: middle;\n",
       "    }\n",
       "\n",
       "    .dataframe tbody tr th {\n",
       "        vertical-align: top;\n",
       "    }\n",
       "\n",
       "    .dataframe thead th {\n",
       "        text-align: right;\n",
       "    }\n",
       "</style>\n",
       "<table border=\"1\" class=\"dataframe\">\n",
       "  <thead>\n",
       "    <tr style=\"text-align: right;\">\n",
       "      <th></th>\n",
       "      <th>Artist Name</th>\n",
       "      <th>Track Name</th>\n",
       "      <th>Minutes Played</th>\n",
       "    </tr>\n",
       "  </thead>\n",
       "  <tbody>\n",
       "    <tr>\n",
       "      <th>0</th>\n",
       "      <td>Radiohead</td>\n",
       "      <td>Let Down - Remastered</td>\n",
       "      <td>283.21</td>\n",
       "    </tr>\n",
       "    <tr>\n",
       "      <th>1</th>\n",
       "      <td>Ethel Cain</td>\n",
       "      <td>American Teenager</td>\n",
       "      <td>229.07</td>\n",
       "    </tr>\n",
       "    <tr>\n",
       "      <th>2</th>\n",
       "      <td>Carly Rae Jepsen</td>\n",
       "      <td>The Loneliest Time (feat. Rufus Wainwright)</td>\n",
       "      <td>219.92</td>\n",
       "    </tr>\n",
       "    <tr>\n",
       "      <th>3</th>\n",
       "      <td>Julian Casablancas</td>\n",
       "      <td>River of Brakelights</td>\n",
       "      <td>211.01</td>\n",
       "    </tr>\n",
       "    <tr>\n",
       "      <th>4</th>\n",
       "      <td>The Strokes</td>\n",
       "      <td>Life Is Simple in the Moonlight</td>\n",
       "      <td>194.55</td>\n",
       "    </tr>\n",
       "    <tr>\n",
       "      <th>5</th>\n",
       "      <td>Radiohead</td>\n",
       "      <td>Jigsaw Falling Into Place</td>\n",
       "      <td>189.38</td>\n",
       "    </tr>\n",
       "    <tr>\n",
       "      <th>6</th>\n",
       "      <td>Weyes Blood</td>\n",
       "      <td>Children of the Empire</td>\n",
       "      <td>181.84</td>\n",
       "    </tr>\n",
       "    <tr>\n",
       "      <th>7</th>\n",
       "      <td>Ethel Cain</td>\n",
       "      <td>A House In Nebraska</td>\n",
       "      <td>179.80</td>\n",
       "    </tr>\n",
       "    <tr>\n",
       "      <th>8</th>\n",
       "      <td>Cigarettes After Sex</td>\n",
       "      <td>Apocalypse</td>\n",
       "      <td>176.09</td>\n",
       "    </tr>\n",
       "    <tr>\n",
       "      <th>9</th>\n",
       "      <td>Ethel Cain</td>\n",
       "      <td>Thoroughfare</td>\n",
       "      <td>165.90</td>\n",
       "    </tr>\n",
       "  </tbody>\n",
       "</table>\n",
       "</div>"
      ],
      "text/plain": [
       "            Artist Name                                   Track Name  \\\n",
       "0             Radiohead                        Let Down - Remastered   \n",
       "1            Ethel Cain                            American Teenager   \n",
       "2      Carly Rae Jepsen  The Loneliest Time (feat. Rufus Wainwright)   \n",
       "3    Julian Casablancas                         River of Brakelights   \n",
       "4           The Strokes              Life Is Simple in the Moonlight   \n",
       "5             Radiohead                    Jigsaw Falling Into Place   \n",
       "6           Weyes Blood                       Children of the Empire   \n",
       "7            Ethel Cain                          A House In Nebraska   \n",
       "8  Cigarettes After Sex                                   Apocalypse   \n",
       "9            Ethel Cain                                 Thoroughfare   \n",
       "\n",
       "   Minutes Played  \n",
       "0          283.21  \n",
       "1          229.07  \n",
       "2          219.92  \n",
       "3          211.01  \n",
       "4          194.55  \n",
       "5          189.38  \n",
       "6          181.84  \n",
       "7          179.80  \n",
       "8          176.09  \n",
       "9          165.90  "
      ]
     },
     "execution_count": 142,
     "metadata": {},
     "output_type": "execute_result"
    }
   ],
   "source": [
    "top_tracks = df.groupby([\"artistName\", \"trackName\"]).agg(time_played_min = (\"msPlayed\", \"sum\")).reset_index().sort_values(\"time_played_min\", ascending = False)\n",
    "\n",
    "to_omit = [\"Heavy Thunder and Rain Sounds 8 Hours | Thunderstorm Sounds for Study and Sleep\",\n",
    "           \"Sleep Sounds Rain & Thunderstorm White Noise 8 Hours | Fall Asleep with Rainstorm Sound Masking\",\n",
    "           \"Long Rumbling Thunder - 10 hours\",\n",
    "           \"Tropical Beach | Relaxing Ocean Sounds 8 Hours\",\n",
    "           \"#1847 - Theo Von\", \"#1836 - Ryan Holiday\"]\n",
    "\n",
    "top_tracks = top_tracks[~ top_tracks[\"trackName\"].isin(to_omit)]\n",
    "top_tracks[\"time_played_min\"] = round(top_tracks[\"time_played_min\"] / 1000 / 60, 2)\n",
    "\n",
    "top_tracks.head(n = 10).reset_index(drop = True).rename(columns = {\"artistName\": \"Artist Name\", \"trackName\": \"Track Name\", \"time_played_min\": \"Minutes Played\"})"
   ]
  },
  {
   "cell_type": "markdown",
   "metadata": {},
   "source": [
    "### Top 10 Artists"
   ]
  },
  {
   "cell_type": "code",
   "execution_count": 143,
   "metadata": {},
   "outputs": [
    {
     "data": {
      "text/html": [
       "<div>\n",
       "<style scoped>\n",
       "    .dataframe tbody tr th:only-of-type {\n",
       "        vertical-align: middle;\n",
       "    }\n",
       "\n",
       "    .dataframe tbody tr th {\n",
       "        vertical-align: top;\n",
       "    }\n",
       "\n",
       "    .dataframe thead th {\n",
       "        text-align: right;\n",
       "    }\n",
       "</style>\n",
       "<table border=\"1\" class=\"dataframe\">\n",
       "  <thead>\n",
       "    <tr style=\"text-align: right;\">\n",
       "      <th></th>\n",
       "      <th>Artist Name</th>\n",
       "      <th>Minutes Played</th>\n",
       "    </tr>\n",
       "  </thead>\n",
       "  <tbody>\n",
       "    <tr>\n",
       "      <th>0</th>\n",
       "      <td>The Strokes</td>\n",
       "      <td>3221.39</td>\n",
       "    </tr>\n",
       "    <tr>\n",
       "      <th>1</th>\n",
       "      <td>Radiohead</td>\n",
       "      <td>3175.52</td>\n",
       "    </tr>\n",
       "    <tr>\n",
       "      <th>2</th>\n",
       "      <td>Taylor Swift</td>\n",
       "      <td>2234.47</td>\n",
       "    </tr>\n",
       "    <tr>\n",
       "      <th>3</th>\n",
       "      <td>Ethel Cain</td>\n",
       "      <td>1720.60</td>\n",
       "    </tr>\n",
       "    <tr>\n",
       "      <th>4</th>\n",
       "      <td>Weyes Blood</td>\n",
       "      <td>1675.30</td>\n",
       "    </tr>\n",
       "    <tr>\n",
       "      <th>5</th>\n",
       "      <td>Cigarettes After Sex</td>\n",
       "      <td>1369.78</td>\n",
       "    </tr>\n",
       "    <tr>\n",
       "      <th>6</th>\n",
       "      <td>Travis Scott</td>\n",
       "      <td>1107.80</td>\n",
       "    </tr>\n",
       "    <tr>\n",
       "      <th>7</th>\n",
       "      <td>Carly Rae Jepsen</td>\n",
       "      <td>729.77</td>\n",
       "    </tr>\n",
       "    <tr>\n",
       "      <th>8</th>\n",
       "      <td>Lana Del Rey</td>\n",
       "      <td>677.91</td>\n",
       "    </tr>\n",
       "    <tr>\n",
       "      <th>9</th>\n",
       "      <td>The Voidz</td>\n",
       "      <td>665.84</td>\n",
       "    </tr>\n",
       "  </tbody>\n",
       "</table>\n",
       "</div>"
      ],
      "text/plain": [
       "            Artist Name  Minutes Played\n",
       "0           The Strokes         3221.39\n",
       "1             Radiohead         3175.52\n",
       "2          Taylor Swift         2234.47\n",
       "3            Ethel Cain         1720.60\n",
       "4           Weyes Blood         1675.30\n",
       "5  Cigarettes After Sex         1369.78\n",
       "6          Travis Scott         1107.80\n",
       "7      Carly Rae Jepsen          729.77\n",
       "8          Lana Del Rey          677.91\n",
       "9             The Voidz          665.84"
      ]
     },
     "execution_count": 143,
     "metadata": {},
     "output_type": "execute_result"
    }
   ],
   "source": [
    "top_artists = df.groupby(\"artistName\").agg(min_played = (\"msPlayed\", \"sum\")).reset_index().sort_values(\"min_played\", ascending = False).reset_index(drop = True)\n",
    "\n",
    "top_artists[\"min_played\"] = round(top_artists[\"min_played\"] / 1000 / 60, 2)\n",
    "\n",
    "to_omit = [\"Wet Jeans\", \"No Laying Up - Golf Podcast\", \"Binchtopia\", \"History That Doesn't Suck\",\n",
    "           \"HBO's The Last of Us Podcast\", \"The Analytics Power Hour\", \"S-Town\",\n",
    "           \"Last Podcast On The Left\", \"Two Hot Takes\", \"The Shotgun Start\", \"DataFramed\", \"SmartLess\",\n",
    "           \"Relaxing White Noise\"]\n",
    "\n",
    "top_artists = top_artists[(~ top_artists[\"artistName\"].isin(to_omit)) & (top_artists[\"min_played\"] >= 10)]\n",
    "\n",
    "top_artists.head(n = 10).reset_index(drop = True).rename(columns = {\"artistName\": \"Artist Name\", \"min_played\": \"Minutes Played\"})"
   ]
  },
  {
   "cell_type": "markdown",
   "metadata": {},
   "source": [
    "### Which months did I listen to the most music?"
   ]
  },
  {
   "cell_type": "code",
   "execution_count": 144,
   "metadata": {},
   "outputs": [
    {
     "data": {
      "text/html": [
       "<div>\n",
       "<style scoped>\n",
       "    .dataframe tbody tr th:only-of-type {\n",
       "        vertical-align: middle;\n",
       "    }\n",
       "\n",
       "    .dataframe tbody tr th {\n",
       "        vertical-align: top;\n",
       "    }\n",
       "\n",
       "    .dataframe thead th {\n",
       "        text-align: right;\n",
       "    }\n",
       "</style>\n",
       "<table border=\"1\" class=\"dataframe\">\n",
       "  <thead>\n",
       "    <tr style=\"text-align: right;\">\n",
       "      <th></th>\n",
       "      <th>month</th>\n",
       "      <th>min_played</th>\n",
       "    </tr>\n",
       "  </thead>\n",
       "  <tbody>\n",
       "    <tr>\n",
       "      <th>0</th>\n",
       "      <td>August</td>\n",
       "      <td>5075.66</td>\n",
       "    </tr>\n",
       "    <tr>\n",
       "      <th>1</th>\n",
       "      <td>May</td>\n",
       "      <td>4683.30</td>\n",
       "    </tr>\n",
       "    <tr>\n",
       "      <th>2</th>\n",
       "      <td>September</td>\n",
       "      <td>4494.58</td>\n",
       "    </tr>\n",
       "    <tr>\n",
       "      <th>3</th>\n",
       "      <td>July</td>\n",
       "      <td>4291.78</td>\n",
       "    </tr>\n",
       "    <tr>\n",
       "      <th>4</th>\n",
       "      <td>January</td>\n",
       "      <td>4201.04</td>\n",
       "    </tr>\n",
       "    <tr>\n",
       "      <th>5</th>\n",
       "      <td>April</td>\n",
       "      <td>4189.81</td>\n",
       "    </tr>\n",
       "    <tr>\n",
       "      <th>6</th>\n",
       "      <td>December</td>\n",
       "      <td>4027.46</td>\n",
       "    </tr>\n",
       "    <tr>\n",
       "      <th>7</th>\n",
       "      <td>October</td>\n",
       "      <td>3752.71</td>\n",
       "    </tr>\n",
       "    <tr>\n",
       "      <th>8</th>\n",
       "      <td>June</td>\n",
       "      <td>3731.13</td>\n",
       "    </tr>\n",
       "    <tr>\n",
       "      <th>9</th>\n",
       "      <td>March</td>\n",
       "      <td>3611.68</td>\n",
       "    </tr>\n",
       "    <tr>\n",
       "      <th>10</th>\n",
       "      <td>November</td>\n",
       "      <td>3130.24</td>\n",
       "    </tr>\n",
       "    <tr>\n",
       "      <th>11</th>\n",
       "      <td>February</td>\n",
       "      <td>2788.81</td>\n",
       "    </tr>\n",
       "  </tbody>\n",
       "</table>\n",
       "</div>"
      ],
      "text/plain": [
       "        month  min_played\n",
       "0      August     5075.66\n",
       "1         May     4683.30\n",
       "2   September     4494.58\n",
       "3        July     4291.78\n",
       "4     January     4201.04\n",
       "5       April     4189.81\n",
       "6    December     4027.46\n",
       "7     October     3752.71\n",
       "8        June     3731.13\n",
       "9       March     3611.68\n",
       "10   November     3130.24\n",
       "11   February     2788.81"
      ]
     },
     "execution_count": 144,
     "metadata": {},
     "output_type": "execute_result"
    }
   ],
   "source": [
    "def get_month(ts):\n",
    "    dt_obj = datetime.strptime(ts, \"%Y-%m-%d %H:%M\")\n",
    "    return dt_obj.strftime(\"%B\")\n",
    "\n",
    "df[\"month\"] = [get_month(x) for x in df[\"endTime\"].tolist()]\n",
    "df[\"month\"] = pd.Categorical(df[\"month\"], categories = [\"January\", \"February\", \"March\", \"April\", \"May\", \"June\",\n",
    "                                                        \"July\", \"August\", \"September\", \"October\", \"November\", \"December\"])\n",
    "\n",
    "df.groupby(\"month\", observed = False).agg(min_played = (\"msPlayed\", \"sum\")).reset_index().assign(min_played = lambda x: round(x[\"min_played\"] / 1000 / 60, 2)).sort_values(\"min_played\", ascending = False).reset_index(drop = True)"
   ]
  }
 ],
 "metadata": {
  "kernelspec": {
   "display_name": "Python 3",
   "language": "python",
   "name": "python3"
  },
  "language_info": {
   "codemirror_mode": {
    "name": "ipython",
    "version": 3
   },
   "file_extension": ".py",
   "mimetype": "text/x-python",
   "name": "python",
   "nbconvert_exporter": "python",
   "pygments_lexer": "ipython3",
   "version": "3.12.0"
  }
 },
 "nbformat": 4,
 "nbformat_minor": 2
}
